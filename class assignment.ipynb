{
 "cells": [
  {
   "cell_type": "markdown",
   "metadata": {},
   "source": [
    "### Write a python program using class concepts to find the area of the triangle using the below formula:\n",
    "### area=(s*(s-a)*(s-b)*(s-c)**0.5)"
   ]
  },
  {
   "cell_type": "code",
   "execution_count": 12,
   "metadata": {},
   "outputs": [],
   "source": [
    "class length:\n",
    "    def __init__(self):\n",
    "        self.a=float(input(\"Enter the side 1 of triangle\\n\"))\n",
    "        self.b=float(input(\"Enter the side 2 of the triangle\\n\"))\n",
    "        self.c=float(input(\"Enter the side3 of the triangle\\n\"))\n",
    "    def __str__(self):\n",
    "            print(\"The sides of the triangle are\\n\",str(self.a,self.b,self.c))\n",
    "class area(length):\n",
    "        def cal(self):\n",
    "            s=(self.a+self.b+self.c)/2\n",
    "            area=((s*(s-self.a)*(s-self.b)*(s-self.c))**0.5)\n",
    "            print(\"The area of the triangle is\\n\",str(area))\n",
    "        "
   ]
  },
  {
   "cell_type": "code",
   "execution_count": 13,
   "metadata": {},
   "outputs": [
    {
     "name": "stdout",
     "output_type": "stream",
     "text": [
      "Enter the side 1 of triangle\n",
      "3\n",
      "Enter the side 2 of the triangle\n",
      "4\n",
      "Enter the side3 of the triangle\n",
      "5\n",
      "The area of the triangle is\n",
      " 6.0\n"
     ]
    }
   ],
   "source": [
    "triangle=area()\n",
    "triangle.cal()"
   ]
  },
  {
   "cell_type": "markdown",
   "metadata": {},
   "source": [
    "### Write a python function filter_long_words that take words and integer and returns the words that are longer than n\n",
    "\n"
   ]
  },
  {
   "cell_type": "code",
   "execution_count": 5,
   "metadata": {},
   "outputs": [],
   "source": [
    "def filter_long_words(words,n):\n",
    "    print(\"The list of words is\")\n",
    "    print(words)\n",
    "    print(\"the integer that you have entered is\\n\")\n",
    "    print(n)\n",
    "    print(\" \")\n",
    "    p=len(words)\n",
    "    for i in range(p):\n",
    "        if i>=n:\n",
    "            print(words[i])\n",
    "        "
   ]
  },
  {
   "cell_type": "code",
   "execution_count": 6,
   "metadata": {},
   "outputs": [
    {
     "name": "stdout",
     "output_type": "stream",
     "text": [
      "Enter the number of choice5\n",
      "The list of words is\n",
      "['the', 'most', 'important', 'thing', 'in', 'life', 'is', 'your', 'happiness']\n",
      "the integer that you have entered is\n",
      "\n",
      "5\n",
      " \n",
      "life\n",
      "is\n",
      "your\n",
      "happiness\n"
     ]
    }
   ],
   "source": [
    "words=['the','most','important','thing','in','life','is','your','happiness']\n",
    "n=int(input(\"Enter the number of choice\"))\n",
    "filter_long_words(words,n)"
   ]
  },
  {
   "cell_type": "markdown",
   "metadata": {},
   "source": [
    "### Write a python program which takes a list of strings and prints the corresponding list of lengths of words in list"
   ]
  },
  {
   "cell_type": "code",
   "execution_count": 7,
   "metadata": {},
   "outputs": [
    {
     "name": "stdout",
     "output_type": "stream",
     "text": [
      "The list of words is\n",
      "\n",
      "['the', 'most', 'thing', 'in', 'life', 'is', 'your', 'happiness']\n",
      "The corresponding list of lengths is\n",
      "\n",
      "[3, 4, 5, 2, 4, 2, 4, 9]\n"
     ]
    }
   ],
   "source": [
    "length=[]\n",
    "words=['the','most','thing','in','life','is','your','happiness']\n",
    "print(\"The list of words is\\n\")\n",
    "print(words)\n",
    "for word in words:\n",
    "    le=len(word)\n",
    "    length.append(le)\n",
    "print(\"The corresponding list of lengths is\\n\")\n",
    "print(length)\n"
   ]
  },
  {
   "cell_type": "markdown",
   "metadata": {},
   "source": [
    "### Write a python function that inputs a character and returns True if it is vowel and False  if not"
   ]
  },
  {
   "cell_type": "code",
   "execution_count": 8,
   "metadata": {},
   "outputs": [],
   "source": [
    "def character():\n",
    "    c=input(\"Enter the character which you want to check\\n\")\n",
    "    print(\"The character that you entered is\\n\")\n",
    "    print(c)\n",
    "    if ((c=='a') or (c=='e') or (c=='i') or (c=='o') or (c=='u')):\n",
    "        return True;\n",
    "    else:\n",
    "        return False;\n"
   ]
  },
  {
   "cell_type": "code",
   "execution_count": 9,
   "metadata": {},
   "outputs": [
    {
     "name": "stdout",
     "output_type": "stream",
     "text": [
      "Enter the character which you want to check\n",
      "a\n",
      "The character that you entered is\n",
      "\n",
      "a\n"
     ]
    },
    {
     "data": {
      "text/plain": [
       "True"
      ]
     },
     "execution_count": 9,
     "metadata": {},
     "output_type": "execute_result"
    }
   ],
   "source": [
    "character()"
   ]
  }
 ],
 "metadata": {
  "kernelspec": {
   "display_name": "Python 3",
   "language": "python",
   "name": "python3"
  },
  "language_info": {
   "codemirror_mode": {
    "name": "ipython",
    "version": 3
   },
   "file_extension": ".py",
   "mimetype": "text/x-python",
   "name": "python",
   "nbconvert_exporter": "python",
   "pygments_lexer": "ipython3",
   "version": "3.8.3"
  }
 },
 "nbformat": 4,
 "nbformat_minor": 4
}
